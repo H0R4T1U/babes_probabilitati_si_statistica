{
 "cells": [
  {
   "cell_type": "markdown",
   "metadata": {},
   "source": [
    "1. Un punct material se deplaseaz  pe axa real  dintr-un nod spre un nod vecin, la  ecare pas,\n",
    "cu probabilitatea p ∈ (0, 1) la dreapta ³i cu probabilitea 1 − p la stânga. Nodurile sunt centrate în\n",
    "numerele întregi, iar nodul iniµial este 0:\n",
    "b) Simulaµi de 1000 ori o astfel de deplasare cu un num r dat de pa³i, cu probabilitatea p ∈ (0, 1),\n",
    "³i a ³aµi histograma poziµiilor  nale."
   ]
  },
  {
   "cell_type": "code",
   "execution_count": 34,
   "metadata": {},
   "outputs": [
    {
     "data": {
      "image/png": "[encoded data removed]",
      "text/plain": [
       "<Figure size 640x480 with 1 Axes>"
      ]
     },
     "metadata": {},
     "output_type": "display_data"
    }
   ],
   "source": [
    "from scipy.stats import bernoulli, binom\n",
    "from matplotlib.pyplot import bar, show, hist, grid, legend, xticks\n",
    "nr_sim = 1000\n",
    "nr_pasi = 10\n",
    "# problema 1 a\n",
    "def mers_aleator_axa(nr_pasi,p):\n",
    "    pozitii = [0]\n",
    "    for _ in range(nr_pasi):\n",
    "        x = bernoulli.rvs(p)\n",
    "        pas = 2*x-1\n",
    "        pozitii.append(pozitii[-1]+pas)\n",
    "    return pozitii\n",
    "\n",
    "\n",
    "# problema 1 b\n",
    "def sim_mers_aleator_axa(nr_pasi,p,nr_sim):\n",
    "    pozitii_finale = [mers_aleator_axa(nr_pasi,p)[-1] for _ in range(nr_sim)]\n",
    "    bin_edges = [i+0.5 for i in range(-nr_pasi-1,nr_pasi+1)]\n",
    "    hist(pozitii_finale,bin_edges,density=True,rwidth=0.9,align='mid',edgecolor='black',\n",
    "                                        color='green',alpha=0.3,label=\"frecvente relative\")\n",
    "\n",
    "    distribution = dict([(k-(nr_pasi-k),binom.pmf(k,nr_pasi,p))\n",
    "                                                for k in range(nr_pasi+1)])\n",
    "    bar(distribution.keys(), distribution.values(), width = 0.6,align='center',\n",
    "                                        color = 'red', edgecolor = 'black',alpha= 0.6, label = 'probabilitati')\n",
    "    xticks(range(-nr_pasi,nr_pasi+1))\n",
    "    legend(loc = 'upper left')\n",
    "    grid()\n",
    "    show()\n",
    "\n",
    "sim_mers_aleator_axa(nr_pasi,0.5,nr_sim)"
   ]
  },
  {
   "cell_type": "markdown",
   "metadata": {},
   "source": [
    "2.\n",
    "Un juc tor de  Loto 6/49  î³i cump r  câte un bilet pentru  ecare extrage efectuat  de loteria\n",
    "român  pân  când reu³e³te s  nimereasc  un bilet cu cel puµin 3 numere câ³tig toare. Folosind\n",
    "metodele claselor de mai jos,\n",
    "i) generaµi o list  care conµine, pentru  ecare simulare, num rul de bilete necâ³tig toare (care au cel\n",
    "mult 2 numere câ³tig toare) pân  la primul bilet câ³tig tor (care are cel puµin 3 numere câ³tig toare).\n",
    "ii) estimaµi probabilitatea evenimentului  cel puµin 10 bilete succesive sunt necâ³tig toare pân  când\n",
    "juc torul nimere³te un bilet câ³tig tor  , apoi a s,at, i valoarea teoretic  corespunz toare."
   ]
  },
  {
   "cell_type": "code",
   "execution_count": 38,
   "metadata": {},
   "outputs": [
    {
     "data": {
      "text/plain": [
       "array([ 53,  32,  45,  95,  42,   2,  38,  12,  43,  48,  29,  22,  10,\n",
       "        22, 141,  42,  76,  30,  38,  60,  67,  63,  41, 133, 103,  80,\n",
       "        20,   1,  25, 107,  24,  30,  43,  25,  38, 101,  13,  34,  26,\n",
       "        14,  33,  14,  70,   1,  37,  29,  90,  71, 229,   4,  36,  44,\n",
       "       128,  69,  17, 400, 135,  15,  12,  27,  24,  89,  32, 103,  84,\n",
       "        55,  22,  33,  10,  10,  42,   4,  38,   2, 103,  11,  51, 291,\n",
       "        79,   7,  14,  37,  10, 214,  33,  92,  41,  31,  11,  20,  11,\n",
       "         2,  89,  16,  51,  25,  72,  42,  16, 148,   1,  13,  27,   3,\n",
       "        30,  46,  43,   2,  22,  98,  78,  79,  27,  39,  26,   4,  37,\n",
       "        49,  88,  41,  79,  43,  41,  48, 139, 152,  45,   7,   5,   4,\n",
       "        53,  22,  26,   8,  79,  48,  26,  26,  23,   9, 176,  28,   6,\n",
       "        39,   3,   9,  20,  43,  74,  11,  38,  76,  19,   4, 108,  14,\n",
       "        51, 124,  12, 166,  36,  83,  22,   7,  37,   8, 103,  45, 128,\n",
       "        16,  58,  28, 150, 130,  24,  28,   9,  19, 125,  78,  53,  27,\n",
       "         6,  25,  87,  26,  93,  10,  44, 121,  30,  15,  54,  21,  15,\n",
       "         5,   6,  86,  35,  24,  81,  18,  79,  89,  76,  41,  51,   7,\n",
       "        42, 142, 149,  28,  21,  51,  51,  21,  45,  26, 101,  31,   5,\n",
       "        28,   2, 104,  30,  50,  64,  44, 156,   1,  77,  21,  43,  35,\n",
       "         8,  31,   2,  24,  14,  10, 175,  53, 111,  11,  29,   4,  19,\n",
       "        25,  18,  86,  42,   8,  21,  70,  76,  41, 115,  36, 143,  44,\n",
       "        16,  48,  53, 145,   4, 116,  18,   8,  48,  94,   1,   8,  31,\n",
       "        13,  39,  34,  62,  12,   2,  35,   3,  85,   7,  23,  45,  51,\n",
       "         2,  98,  79,  34,   4,   4,  52,   7,  84,  22,  42,  38,  38,\n",
       "        48,  12,  62,  64,  16, 122,  60,  87,  70,   6,  45,  92,  18,\n",
       "         2,  32,  69,  24,  14,  27,  29,  47,  19,  28,  45,  32,  44,\n",
       "        36,  24,   2,  45, 116,  54,   7,  93, 122,  19,  38,   4,  52,\n",
       "         9, 302,  48,  13,  12,  51,  11,  20,  23,  46, 141,  40,  53,\n",
       "        23,   9,  39,  70,   1,  36, 211,  78,   7, 143,  51,   6,  27,\n",
       "        31,  24,  33,  60,  76,  43,  18,  12, 156,  62,  85, 107,  12,\n",
       "       115,   6,   7,  68,  17,  36,  11,  18,  16,  73,   4,  30,  15,\n",
       "         7,  17,  37,  45,  15,  17,   4,  13,  93,  63,  57,  99, 131,\n",
       "        59, 118,  98,  30,  19,  71,  75,  26,  93,  14,  57,  17,  48,\n",
       "        64,   9, 330,  20, 135,  47,  55,  32,  15,  52,   5,   2,  60,\n",
       "        80,  80,  33, 101,  95,  32,   5,   3,  38,  57,  71,  54,  97,\n",
       "        40,   1,  21,  63,  24,  21,  91,  27,   4,  32,  44,  11,  13,\n",
       "         6,  41,  14,  21,  64,  21,  12, 265, 114,  17, 103,  29,  12,\n",
       "         5,  41,   2,  20, 106, 249,  40, 138,  54, 173, 143,   6,   5,\n",
       "        30,   6,  28,  54,  49,   8,  48,  12, 169,  19,  25,  62, 205,\n",
       "       104,  26,  15,  24,  50, 115,   2,  27,  16,   1,  47,  18,  34,\n",
       "        42, 188, 172,  54, 117,  43,  10,  14, 113,  85,  32,  47,  22,\n",
       "        10,  19,   8,  39,  92,  29,  16,  26, 117, 110,  20,  99,  31,\n",
       "        10,  26, 132,  54,   9,  62,  87,   7,  84,  99,  85,  53,   3,\n",
       "        17,  27,   5, 199,   8, 119,  66, 182,  67,  29,   4,   3,  73,\n",
       "         7,   5,  14,  22,  40, 116,  19,  87, 119,  24,  73,   5,  31,\n",
       "        18,   3,  22, 134,   5,  33,  94,  22, 176,  26, 133, 137,  59,\n",
       "        34,  86, 165,  42,  97,  43,   1,  27,  97,  24,  28,   6,  71,\n",
       "       136, 186,  37,  24, 148,  19,  15,  10,  23,   4, 135, 157, 185,\n",
       "        53,  11,  30,  66,   6,  77,  10,  16,  13,  13,  76,  68,  30,\n",
       "       171,  38, 186,  28,   2, 106,  34,   4, 150,   5, 113,  23,  35,\n",
       "        51,  28,  51,  10,  74,  14,  30,   8,  20,  35,  16,  74,  50,\n",
       "         8,  11,  21, 100,  40,   9,  34,   1,  19,   8, 120,  38,   8,\n",
       "        79,  12,  13,   2,  19,  39,  85, 105,  53,  91,  50,  44,  41,\n",
       "        16,   7,  10,  37,  29,  66,  61, 186,  25,  79,  26,  26, 143,\n",
       "       107, 123,  34,  92,  34, 107,  75,  52,   1,   6,  44,   1,  38,\n",
       "        16,  78, 133, 101,   9,  15,   9,  27,  75,  94,  66,  61,  33,\n",
       "       139,  59,  96,  28,  52,  32,  73,  37,  47,  60, 133,  81,  75,\n",
       "        55,  25,  26,  43,  22,  25, 151,  28,  23,  23,  11,  14,  18,\n",
       "        26,  56,  66,  49,  22,  51,  57,   7,  12,  92,  28,  93,  50,\n",
       "       107,   7,   1,  29,   5,  16,  28,  39, 121,  52,   9,  16,   9,\n",
       "        81,   1, 118,   4,  69, 203,  10,   5,  40, 115,   5,  70,  17,\n",
       "        42,   8,   2, 113,  39,  60,  62, 315,  39,   4,  39,  33, 135,\n",
       "        20, 104,  22,  35,   2,   7,  41,  70,  28,  23,  29,  26,  11,\n",
       "        58,  56,  18,   4,   4,   9, 227,  20,   7,  80,  61,  52,  28,\n",
       "        41,  94,  10,  38,   5,  28, 155,  57,  50,   6, 118, 191,  90,\n",
       "        56,  44, 146,   1,   2,  22,  39,  45,  44,  10,  27,  44, 115,\n",
       "       184,  81,   4, 171,   8,  58,   5,   3,  21,  40,  23,  10,  17,\n",
       "        27,   9,  21,  90,  43,  72,   3,  14,  12,  15,  52,  16,  83,\n",
       "         8,  68,  14,   6,   2,  13,  15,  12,  62,  86,   6,  31, 139,\n",
       "        33,  10,  14,  50,  37,   2,  88,  15,   6,   5, 150,  51, 227,\n",
       "         6, 107,  36,  28,  81,  36,   9,  68,  53,  71,  13,  30,  20,\n",
       "        17,   3,   7,  13,  41,  44, 185,  57,  10,  58,  83, 160,  29,\n",
       "         6, 184,  24,  58,  39, 100,  36,  78, 256,  11,  11,  79,  34,\n",
       "       130,  61,  87,  26,  18, 104, 157,  96,  76,   9,  98,  41,   2,\n",
       "       149,  68,  97,   2,  76,  51,  40,   6,  41,  21,  70, 149,  42,\n",
       "       147,   6,  66,   6,   4,  92,   9,  61,   5,  25, 172,  45, 202,\n",
       "        14,  30,  36,  28, 179,  87,  22,  64,   1,   3,  46,  67,  13,\n",
       "       142,  36,  17,  33,  12,  55,  27,  72,  58,  61,  11,   9])"
      ]
     },
     "execution_count": 38,
     "metadata": {},
     "output_type": "execute_result"
    }
   ],
   "source": [
    "from scipy.stats import hypergeom, geom\n",
    "\n",
    "nr_sim = 1000\n",
    "p = sum([hypergeom.pmf(k,49,6,6) for k in range(3,7)])\n",
    "nr_bile_necastigatoare = geom.rvs(p,size=nr_sim)\n",
    "nr_bile_necastigatoare\n"
   ]
  }
 ],
 "metadata": {
  "kernelspec": {
   "display_name": "Python 3",
   "language": "python",
   "name": "python3"
  },
  "language_info": {
   "codemirror_mode": {
    "name": "ipython",
    "version": 3
   },
   "file_extension": ".py",
   "mimetype": "text/x-python",
   "name": "python",
   "nbconvert_exporter": "python",
   "pygments_lexer": "ipython3",
   "version": "3.9.6"
  }
 },
 "nbformat": 4,
 "nbformat_minor": 2
}

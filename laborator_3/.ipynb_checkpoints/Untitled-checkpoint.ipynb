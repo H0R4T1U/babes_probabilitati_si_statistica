{
 "cells": [
  {
   "cell_type": "code",
   "execution_count": 23,
   "id": "18ec8bd7-9951-44b5-ac9f-c4e82753133c",
   "metadata": {},
   "outputs": [],
   "source": [
    "from random import sample\n",
    "from math import comb,perm"
   ]
  },
  {
   "cell_type": "code",
   "execution_count": null,
   "id": "9428ea16-f4c1-42a4-abf6-a1a3f6cbc808",
   "metadata": {},
   "outputs": [],
   "source": [
    "1. P(B|A) = prob ca a si b sa se intample in acelasi timp / prob ca a sa se intample"
   ]
  },
  {
   "cell_type": "code",
   "execution_count": null,
   "id": "c24ceb17-48e8-4b0a-bb08-6b086e9a2d3f",
   "metadata": {},
   "outputs": [],
   "source": [
    "# PRIN SIMULARI REPETATE\n",
    "lista = [\"rosu\",\"albastru\",\"verde\"]\n",
    "count_rosie = 0\n",
    "count_toate_rosii = 0\n",
    "repetitii = 10000\n",
    "for i in range(repetitii):\n",
    "    extrase = sample(lista,counts=[5,3,2],k=3);\n",
    "    if(\"rosu\" in extrase):\n",
    "        count_rosie +=1\n",
    "        if(len(set(extrase)) == 1):\n",
    "            count_toate_rosii += 1\n",
    "print((count_toate_rosii/count_rosie)*100)"
   ]
  },
  {
   "cell_type": "markdown",
   "id": "33350d6e-73df-41fa-8240-d68a10e3e5ee",
   "metadata": {},
   "source": [
    "2. PROB TEORETICA = COMB(5,3) / COMB(10,3) CF/CP"
   ]
  },
  {
   "cell_type": "code",
   "execution_count": null,
   "id": "625cde81-dcb2-452e-9f64-b715c90a1783",
   "metadata": {},
   "outputs": [],
   "source": [
    "prob_teoretica_ab = comb(5,3)/comb(10,3)\n",
    "prob_teoretica_a = 1- prob_a_si_b\n",
    "prob_b_cond_a_teoretica=prob_teoretica_ab/prob_teoretica_a\n",
    "print((prob_b_cond_a_teoretica)*100)\n",
    "\n"
   ]
  },
  {
   "cell_type": "code",
   "execution_count": null,
   "id": "dd1b69e2-c189-4812-ac35-35420379c56b",
   "metadata": {},
   "outputs": [],
   "source": []
  }
 ],
 "metadata": {
  "kernelspec": {
   "display_name": "Python 3 (ipykernel)",
   "language": "python",
   "name": "python3"
  },
  "language_info": {
   "codemirror_mode": {
    "name": "ipython",
    "version": 3
   },
   "file_extension": ".py",
   "mimetype": "text/x-python",
   "name": "python",
   "nbconvert_exporter": "python",
   "pygments_lexer": "ipython3",
   "version": "3.12.7"
  }
 },
 "nbformat": 4,
 "nbformat_minor": 5
}
